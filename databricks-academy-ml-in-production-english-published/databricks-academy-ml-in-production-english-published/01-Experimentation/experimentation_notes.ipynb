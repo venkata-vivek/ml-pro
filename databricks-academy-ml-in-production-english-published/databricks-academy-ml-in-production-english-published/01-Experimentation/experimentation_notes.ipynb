{
 "cells": [
  {
   "cell_type": "markdown",
   "metadata": {
    "application/vnd.databricks.v1+cell": {
     "cellMetadata": {},
     "inputWidgets": {},
     "nuid": "6c49fe15-24fb-4279-b408-e86da003993e",
     "showTitle": false,
     "tableResultSettingsMap": {},
     "title": ""
    }
   },
   "source": [
    "Read and write to delta \n",
    "\n",
    "1) You can write to a managed delta tables (uses saveAsTable) or external location (uses save) "
   ]
  },
  {
   "cell_type": "code",
   "execution_count": 0,
   "metadata": {
    "application/vnd.databricks.v1+cell": {
     "cellMetadata": {
      "byteLimit": 2048000,
      "rowLimit": 10000
     },
     "inputWidgets": {},
     "nuid": "6c4687b0-c848-4e30-811e-df1744ae8c9b",
     "showTitle": false,
     "tableResultSettingsMap": {},
     "title": ""
    }
   },
   "outputs": [],
   "source": [
    "import pandas as pd\n",
    "import seaborn as sns\n",
    "#\n",
    "from pyspark.sql.functions import *\n",
    "#\n",
    "from databricks.feature_store import FeatureStoreClient, feature_table"
   ]
  },
  {
   "cell_type": "code",
   "execution_count": 0,
   "metadata": {
    "application/vnd.databricks.v1+cell": {
     "cellMetadata": {
      "byteLimit": 2048000,
      "rowLimit": 10000
     },
     "inputWidgets": {},
     "nuid": "a7dae0de-abd9-448b-9603-a07749d8ec9f",
     "showTitle": false,
     "tableResultSettingsMap": {},
     "title": ""
    }
   },
   "outputs": [],
   "source": [
    "taxis_df = sns.load_dataset(\"taxis\")\n",
    "#\n",
    "taxis_sdf = spark.createDataFrame(taxis_df)\n",
    "#\n",
    "display(taxis_sdf.limit(5))"
   ]
  },
  {
   "cell_type": "code",
   "execution_count": 0,
   "metadata": {
    "application/vnd.databricks.v1+cell": {
     "cellMetadata": {
      "byteLimit": 2048000,
      "rowLimit": 10000
     },
     "inputWidgets": {},
     "nuid": "9071f65c-4897-4e8e-a9b1-39a4193b386e",
     "showTitle": false,
     "tableResultSettingsMap": {},
     "title": ""
    }
   },
   "outputs": [],
   "source": [
    "(taxis_sdf.write\n",
    "          .mode(\"overwrite\")\n",
    "          .option(\"overwriteSchema\", \"True\")\n",
    "          .format(\"delta\")\n",
    "          .saveAsTable(\"taxis_sdf\"))"
   ]
  },
  {
   "cell_type": "code",
   "execution_count": 0,
   "metadata": {
    "application/vnd.databricks.v1+cell": {
     "cellMetadata": {
      "byteLimit": 2048000,
      "rowLimit": 10000
     },
     "inputWidgets": {},
     "nuid": "aedaf2df-7351-47fe-b131-cec51976dd80",
     "showTitle": false,
     "tableResultSettingsMap": {},
     "title": ""
    }
   },
   "outputs": [],
   "source": [
    "(taxis_sdf.write\n",
    "          .mode(\"overwrite\")\n",
    "          .option(\"overwriteSchema\", \"True\")\n",
    "          .format(\"delta\")\n",
    "          .save(\"/temp/taxis_sdf_external\"))"
   ]
  },
  {
   "cell_type": "markdown",
   "metadata": {
    "application/vnd.databricks.v1+cell": {
     "cellMetadata": {},
     "inputWidgets": {},
     "nuid": "e604e63d-a791-43df-98f7-9ca850152678",
     "showTitle": false,
     "tableResultSettingsMap": {},
     "title": ""
    }
   },
   "source": [
    "list managed tables"
   ]
  },
  {
   "cell_type": "code",
   "execution_count": 0,
   "metadata": {
    "application/vnd.databricks.v1+cell": {
     "cellMetadata": {
      "byteLimit": 2048000,
      "rowLimit": 10000
     },
     "inputWidgets": {},
     "nuid": "8a300050-be0e-41e8-9ac3-69c1d2f8d7dc",
     "showTitle": false,
     "tableResultSettingsMap": {},
     "title": ""
    }
   },
   "outputs": [],
   "source": [
    "display(spark.sql(\"show tables\").limit(5))"
   ]
  },
  {
   "cell_type": "code",
   "execution_count": 0,
   "metadata": {
    "application/vnd.databricks.v1+cell": {
     "cellMetadata": {
      "byteLimit": 2048000,
      "rowLimit": 10000
     },
     "inputWidgets": {},
     "nuid": "d5048268-9bb5-4137-83cc-a1dc8b6f8268",
     "showTitle": false,
     "tableResultSettingsMap": {},
     "title": ""
    }
   },
   "outputs": [],
   "source": [
    "taxis_sdf    = spark.table(\"taxis_sdf\")           # read managed delta table\n"
   ]
  },
  {
   "cell_type": "code",
   "execution_count": 0,
   "metadata": {
    "application/vnd.databricks.v1+cell": {
     "cellMetadata": {
      "byteLimit": 2048000,
      "rowLimit": 10000
     },
     "inputWidgets": {},
     "nuid": "b7eeaea2-b2c3-4b03-b15c-0bf1f8d7772a",
     "showTitle": false,
     "tableResultSettingsMap": {},
     "title": ""
    }
   },
   "outputs": [],
   "source": [
    "taxi_sdf_ext = spark.read.load(\"/temp/taxis_sdf_external\") # read external delta table"
   ]
  },
  {
   "cell_type": "code",
   "execution_count": 0,
   "metadata": {
    "application/vnd.databricks.v1+cell": {
     "cellMetadata": {
      "byteLimit": 2048000,
      "rowLimit": 10000
     },
     "inputWidgets": {},
     "nuid": "a547e3b3-1a78-44d7-b657-a912b6959b0a",
     "showTitle": false,
     "tableResultSettingsMap": {},
     "title": ""
    }
   },
   "outputs": [],
   "source": [
    "display(taxi_sdf_ext.head(10))"
   ]
  },
  {
   "cell_type": "markdown",
   "metadata": {
    "application/vnd.databricks.v1+cell": {
     "cellMetadata": {},
     "inputWidgets": {},
     "nuid": "bf64e079-dcb0-414b-9896-d729e4db5f67",
     "showTitle": false,
     "tableResultSettingsMap": {},
     "title": ""
    }
   },
   "source": [
    "View Delta Table version history        "
   ]
  },
  {
   "cell_type": "code",
   "execution_count": 0,
   "metadata": {
    "application/vnd.databricks.v1+cell": {
     "cellMetadata": {
      "byteLimit": 2048000,
      "rowLimit": 10000
     },
     "inputWidgets": {},
     "nuid": "92947eda-0bfa-4105-a2dc-7a2ec7409c24",
     "showTitle": false,
     "tableResultSettingsMap": {},
     "title": ""
    }
   },
   "outputs": [],
   "source": [
    "# remove nulls for payment column\n",
    "taxis_sdf = taxis_sdf.filter(\"payment is not null\")\n",
    "#\n",
    "# save the change to managed delta table\n",
    "(taxis_sdf.write\n",
    "          .mode(\"overwrite\")\n",
    "          .option(\"overwriteSchema\", \"True\")\n",
    "          .format(\"delta\")\n",
    "          .saveAsTable(\"taxis_sdf\"))\n",
    "#\n",
    "# save the change to external delta table\n",
    "(taxis_sdf.write\n",
    "          .mode(\"overwrite\")\n",
    "          .option(\"overwriteSchema\", \"True\")\n",
    "          .format(\"delta\")\n",
    "          .save(\"/temp/taxis_sdf_external\"))"
   ]
  },
  {
   "cell_type": "markdown",
   "metadata": {
    "application/vnd.databricks.v1+cell": {
     "cellMetadata": {},
     "inputWidgets": {},
     "nuid": "dfd5297d-9b2d-4f01-9b6a-abbdbdde9435",
     "showTitle": false,
     "tableResultSettingsMap": {},
     "title": ""
    }
   },
   "source": [
    "See changes in managed tables "
   ]
  },
  {
   "cell_type": "code",
   "execution_count": 0,
   "metadata": {
    "application/vnd.databricks.v1+cell": {
     "cellMetadata": {
      "byteLimit": 2048000,
      "implicitDf": true,
      "rowLimit": 10000
     },
     "inputWidgets": {},
     "nuid": "598c4df9-e481-4cb0-a52a-dced4840278c",
     "showTitle": false,
     "tableResultSettingsMap": {},
     "title": ""
    }
   },
   "outputs": [],
   "source": [
    "%sql\n",
    "DESCRIBE HISTORY taxis_sdf"
   ]
  },
  {
   "cell_type": "code",
   "execution_count": 0,
   "metadata": {
    "application/vnd.databricks.v1+cell": {
     "cellMetadata": {
      "byteLimit": 2048000,
      "implicitDf": true,
      "rowLimit": 10000
     },
     "inputWidgets": {},
     "nuid": "d7f85387-867a-4fcc-8439-d284c1762b9d",
     "showTitle": false,
     "tableResultSettingsMap": {},
     "title": ""
    }
   },
   "outputs": [],
   "source": [
    "%sql\n",
    "DESCRIBE HISTORY '/temp/taxis_sdf_external/'"
   ]
  },
  {
   "cell_type": "code",
   "execution_count": 0,
   "metadata": {
    "application/vnd.databricks.v1+cell": {
     "cellMetadata": {
      "byteLimit": 2048000,
      "rowLimit": 10000
     },
     "inputWidgets": {},
     "nuid": "4e70e0ef-2f57-4485-bfb9-008162998031",
     "showTitle": false,
     "tableResultSettingsMap": {},
     "title": ""
    }
   },
   "outputs": [],
   "source": [
    "display(spark.read\n",
    "        .format(\"delta\")\n",
    "        .option(\"versionAsOf\", 0)\n",
    "        .table(\"taxis_sdf\")\n",
    "        .filter(\"payment is null\")\n",
    "        .limit(5))\n",
    "#\n",
    "# Or for an external delta table\n",
    "display(spark.read\n",
    "        .format(\"delta\")\n",
    "        .option(\"versionAsOf\", 0)\n",
    "        .load(\"/temp/taxis_sdf\")\n",
    "        .filter(\"payment is null\")\n",
    "        .limit(5))"
   ]
  },
  {
   "cell_type": "markdown",
   "metadata": {
    "application/vnd.databricks.v1+cell": {
     "cellMetadata": {},
     "inputWidgets": {},
     "nuid": "c3cd2e80-28f9-474c-a21e-9c63e568d904",
     "showTitle": false,
     "tableResultSettingsMap": {},
     "title": ""
    }
   },
   "source": [
    "Feature store \n",
    "\n",
    "\n",
    "fs.create_table , Either provide df or shcmea\n",
    "\n",
    "fs.write_table mode = overwrit or merge \n",
    "\n",
    "fs.read_table\n",
    "\n",
    "fs.drop_table"
   ]
  }
 ],
 "metadata": {
  "application/vnd.databricks.v1+notebook": {
   "computePreferences": null,
   "dashboards": [],
   "environmentMetadata": {
    "base_environment": "",
    "environment_version": "2"
   },
   "inputWidgetPreferences": null,
   "language": "python",
   "notebookMetadata": {
    "mostRecentlyExecutedCommandWithImplicitDF": {
     "commandId": 6102708070570973,
     "dataframes": [
      "_sqldf"
     ]
    },
    "pythonIndentUnit": 4
   },
   "notebookName": "experimentation_notes",
   "widgets": {}
  },
  "language_info": {
   "name": "python"
  }
 },
 "nbformat": 4,
 "nbformat_minor": 0
}
