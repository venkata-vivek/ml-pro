{
 "cells": [
  {
   "cell_type": "code",
   "execution_count": 0,
   "metadata": {
    "application/vnd.databricks.v1+cell": {
     "cellMetadata": {
      "byteLimit": 2048000,
      "rowLimit": 10000
     },
     "inputWidgets": {},
     "nuid": "f02304f9-5d41-4367-8c2f-9494d2592795",
     "showTitle": false,
     "tableResultSettingsMap": {},
     "title": ""
    }
   },
   "outputs": [],
   "source": [
    "import pandas as pd\n",
    "import seaborn as sns\n",
    "#\n",
    "from pyspark.sql.functions import *\n",
    "#\n",
    "from pyspark.ml.feature import OneHotEncoder, StringIndexer, VectorAssembler\n",
    "from pyspark.ml.regression import GBTRegressor\n",
    "from pyspark.ml.evaluation import RegressionEvaluator\n",
    "from pyspark.ml import Pipeline\n",
    "#\n",
    "import mlflow\n",
    "#\n",
    "import logging"
   ]
  },
  {
   "cell_type": "code",
   "execution_count": 0,
   "metadata": {
    "application/vnd.databricks.v1+cell": {
     "cellMetadata": {
      "byteLimit": 2048000,
      "rowLimit": 10000
     },
     "inputWidgets": {},
     "nuid": "b939e7e6-f6de-49df-aea1-54b7eea44bfc",
     "showTitle": false,
     "tableResultSettingsMap": {},
     "title": ""
    }
   },
   "outputs": [],
   "source": [
    "logging.getLogger(\"mlflow\").setLevel(logging.FATAL)"
   ]
  },
  {
   "cell_type": "code",
   "execution_count": 0,
   "metadata": {
    "application/vnd.databricks.v1+cell": {
     "cellMetadata": {
      "byteLimit": 2048000,
      "rowLimit": 10000
     },
     "inputWidgets": {},
     "nuid": "24e3f6d1-f5e2-4568-bfef-567777965ce3",
     "showTitle": false,
     "tableResultSettingsMap": {},
     "title": ""
    }
   },
   "outputs": [],
   "source": [
    "tips_df = sns.load_dataset(\"tips\")\n",
    "#\n",
    "tips_sdf = spark.createDataFrame(tips_df)\n",
    "#\n",
    "display(tips_sdf.limit(5))"
   ]
  },
  {
   "cell_type": "code",
   "execution_count": 0,
   "metadata": {
    "application/vnd.databricks.v1+cell": {
     "cellMetadata": {
      "byteLimit": 2048000,
      "rowLimit": 10000
     },
     "inputWidgets": {},
     "nuid": "f9ec475f-c963-4e11-a4c6-fbaf6f12f391",
     "showTitle": false,
     "tableResultSettingsMap": {},
     "title": ""
    }
   },
   "outputs": [],
   "source": [
    "display(tips_df)"
   ]
  },
  {
   "cell_type": "code",
   "execution_count": 0,
   "metadata": {
    "application/vnd.databricks.v1+cell": {
     "cellMetadata": {
      "byteLimit": 2048000,
      "rowLimit": 10000
     },
     "inputWidgets": {},
     "nuid": "f7c0e0d6-c0d2-4f12-aff5-d9a9924ad224",
     "showTitle": false,
     "tableResultSettingsMap": {},
     "title": ""
    }
   },
   "outputs": [],
   "source": [
    "display(tips_sdf.filter(\"size is null\"))"
   ]
  },
  {
   "cell_type": "code",
   "execution_count": 0,
   "metadata": {
    "application/vnd.databricks.v1+cell": {
     "cellMetadata": {
      "byteLimit": 2048000,
      "rowLimit": 10000
     },
     "inputWidgets": {},
     "nuid": "631e42fb-100f-45e6-8d54-7cd52e622824",
     "showTitle": false,
     "tableResultSettingsMap": {},
     "title": ""
    }
   },
   "outputs": [],
   "source": [
    "tips_sdf = tips_sdf.selectExpr(\"total_bill\",\n",
    "                               \"tip\",\n",
    "                               \"case when sex = 'Female' then 1 else 0 end as sex\",\n",
    "                               \"case when smoker = 'yes' then 1 else 0 end as smoker\",\n",
    "                               \"case when time = 'Dinner' then 1 else 0 end as time\",\n",
    "                               \"day\",\n",
    "                               \"size\")\n",
    "#\n",
    "train_df, test_df = tips_sdf.randomSplit([.8, .2])\n",
    "#\n",
    "ohe_cols = [\"size\", \"day\"]\n",
    "num_cols = [\"total_bill\", \"sex\", \"smoker\", \"time\"]\n",
    "target_col = \"tip\"\n",
    "#\n",
    "string_indexer = StringIndexer(inputCols=ohe_cols, outputCols=[c+\"_index\" for c in ohe_cols], handleInvalid=\"skip\")\n",
    "#\n",
    "ohe = OneHotEncoder()\n",
    "ohe.setInputCols([c+\"_index\" for c in ohe_cols])\n",
    "ohe.setOutputCols([c+\"_ohe\" for c in ohe_cols])\n",
    "#\n",
    "assembler_inputs = [c+\"_ohe\" for c in ohe_cols] + num_cols\n",
    "vec_assembler = VectorAssembler(inputCols=assembler_inputs, outputCol=\"features\")"
   ]
  },
  {
   "cell_type": "code",
   "execution_count": 0,
   "metadata": {
    "application/vnd.databricks.v1+cell": {
     "cellMetadata": {
      "byteLimit": 2048000,
      "rowLimit": 10000
     },
     "inputWidgets": {},
     "nuid": "589ff49e-c4f8-4245-ac73-61ccbada2bf4",
     "showTitle": false,
     "tableResultSettingsMap": {},
     "title": ""
    }
   },
   "outputs": [],
   "source": [
    "gbt =       GBTRegressor(featuresCol=\"features\", labelCol=target_col, maxIter=5)\n",
    "evaluator = RegressionEvaluator(labelCol=target_col, predictionCol=\"prediction\", metricName=\"rmse\")"
   ]
  },
  {
   "cell_type": "markdown",
   "metadata": {
    "application/vnd.databricks.v1+cell": {
     "cellMetadata": {},
     "inputWidgets": {},
     "nuid": "a3fd74b4-366f-4c1a-8f72-3c4ca77f9452",
     "showTitle": false,
     "tableResultSettingsMap": {},
     "title": ""
    }
   },
   "source": [
    "Observe how you are logging models \n",
    "\n",
    "mlflow.spark.log_model(model: obj , model_name: str)\n",
    "\n",
    "If it is a sklearn model\n",
    "\n",
    "mlflow.sklearn.log_model(model: obj , model_name: str)"
   ]
  },
  {
   "cell_type": "code",
   "execution_count": 0,
   "metadata": {
    "application/vnd.databricks.v1+cell": {
     "cellMetadata": {
      "byteLimit": 2048000,
      "rowLimit": 10000
     },
     "inputWidgets": {},
     "nuid": "96eeafcc-3bef-4153-a128-3d643a36f052",
     "showTitle": false,
     "tableResultSettingsMap": {},
     "title": ""
    }
   },
   "outputs": [],
   "source": [
    "model_name = \"GBT-Regressor\"\n",
    "#\n",
    "with mlflow.start_run(run_name=\"Tip-run\") as run:\n",
    "    #\n",
    "    # define pipeline stages according to model\n",
    "    stages = [string_indexer, ohe, vec_assembler, gbt]\n",
    "    #\n",
    "    # set pipeline\n",
    "    pipeline = Pipeline(stages=stages)\n",
    "    #\n",
    "    # fit pipeline to train set\n",
    "    model = pipeline.fit(train_df)\n",
    "    #\n",
    "    # manually log model to mlflow\n",
    "    mlflow.spark.log_model(model, model_name)\n",
    "    #\n",
    "    # manually log parameter to mlflow\n",
    "    mlflow.log_param(\"maxIter\", 5)\n",
    "    #\n",
    "    # predict test set\n",
    "    pred_df = model.transform(test_df)\n",
    "    #\n",
    "    # evaluate prediction\n",
    "    rmse = evaluator.evaluate(pred_df)\n",
    "    #\n",
    "    # manually log metric to mlflow\n",
    "    mlflow.log_metric(\"rmse\", rmse)"
   ]
  },
  {
   "cell_type": "code",
   "execution_count": 0,
   "metadata": {
    "application/vnd.databricks.v1+cell": {
     "cellMetadata": {
      "byteLimit": 2048000,
      "rowLimit": 10000
     },
     "inputWidgets": {},
     "nuid": "6613e546-729b-4b57-a91a-908c86d05bb3",
     "showTitle": false,
     "tableResultSettingsMap": {},
     "title": ""
    }
   },
   "outputs": [],
   "source": [
    "mlflow.search_runs()"
   ]
  },
  {
   "cell_type": "code",
   "execution_count": 0,
   "metadata": {
    "application/vnd.databricks.v1+cell": {
     "cellMetadata": {
      "byteLimit": 2048000,
      "rowLimit": 10000
     },
     "inputWidgets": {},
     "nuid": "47e30c60-8213-444f-9985-718ec7e3d008",
     "showTitle": false,
     "tableResultSettingsMap": {},
     "title": ""
    }
   },
   "outputs": [],
   "source": [
    "mlflow.search_runs()[['params.maxIter','run_id','metrics.rmse']].sort_values(by=['metrics.rmse'],ascending=True)"
   ]
  },
  {
   "cell_type": "code",
   "execution_count": 0,
   "metadata": {
    "application/vnd.databricks.v1+cell": {
     "cellMetadata": {
      "byteLimit": 2048000,
      "rowLimit": 10000
     },
     "inputWidgets": {},
     "nuid": "7502bcb7-8201-449c-91fc-c0d999187706",
     "showTitle": false,
     "tableResultSettingsMap": {},
     "title": ""
    }
   },
   "outputs": [],
   "source": [
    "best_run_id = mlflow.search_runs().sort_values(by=['metrics.rmse'],ascending=True).iloc[0].run_id"
   ]
  },
  {
   "cell_type": "code",
   "execution_count": 0,
   "metadata": {
    "application/vnd.databricks.v1+cell": {
     "cellMetadata": {
      "byteLimit": 2048000,
      "rowLimit": 10000
     },
     "inputWidgets": {},
     "nuid": "81890d8f-44db-4834-8a71-020ff62eba31",
     "showTitle": false,
     "tableResultSettingsMap": {},
     "title": ""
    }
   },
   "outputs": [],
   "source": [
    "best_model = f\"runs:/{best_run_id}/{model_name}\""
   ]
  },
  {
   "cell_type": "code",
   "execution_count": 0,
   "metadata": {
    "application/vnd.databricks.v1+cell": {
     "cellMetadata": {
      "byteLimit": 2048000,
      "rowLimit": 10000
     },
     "inputWidgets": {},
     "nuid": "d3205d54-6539-407a-828f-e24e3bd26159",
     "showTitle": false,
     "tableResultSettingsMap": {},
     "title": ""
    }
   },
   "outputs": [],
   "source": [
    "loaded_model = mlflow.spark.load_model(best_model)"
   ]
  },
  {
   "cell_type": "code",
   "execution_count": 0,
   "metadata": {
    "application/vnd.databricks.v1+cell": {
     "cellMetadata": {
      "byteLimit": 2048000,
      "rowLimit": 10000
     },
     "inputWidgets": {},
     "nuid": "b8bc19af-2f98-4c9f-b6c8-c6f1bcd17169",
     "showTitle": false,
     "tableResultSettingsMap": {},
     "title": ""
    }
   },
   "outputs": [],
   "source": [
    "display(loaded_model.transform(test_df).select(\"tip\", \"prediction\"))"
   ]
  }
 ],
 "metadata": {
  "application/vnd.databricks.v1+notebook": {
   "computePreferences": null,
   "dashboards": [],
   "environmentMetadata": {
    "base_environment": "",
    "environment_version": "2"
   },
   "inputWidgetPreferences": null,
   "language": "python",
   "notebookMetadata": {
    "pythonIndentUnit": 4
   },
   "notebookName": "experiment tracking",
   "widgets": {}
  },
  "language_info": {
   "name": "python"
  }
 },
 "nbformat": 4,
 "nbformat_minor": 0
}
