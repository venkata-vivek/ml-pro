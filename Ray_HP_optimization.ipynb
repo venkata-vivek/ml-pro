{
 "cells": [
  {
   "cell_type": "code",
   "execution_count": 0,
   "metadata": {
    "application/vnd.databricks.v1+cell": {
     "cellMetadata": {
      "byteLimit": 2048000,
      "rowLimit": 10000
     },
     "inputWidgets": {},
     "nuid": "7549547c-1f0c-4520-92a6-a3ef3d4dc8c2",
     "showTitle": false,
     "tableResultSettingsMap": {},
     "title": ""
    }
   },
   "outputs": [],
   "source": [
    "import ray \n",
    "from ray import tune \n",
    "# Define Objective function\n",
    "\n",
    "def train(config):\n",
    "    score =  config[\"param\"] ** 2\n",
    "    tune.report(score=score)\n",
    "\n",
    "# Define search space\n",
    "search_space = {\"param\":  tune.uniform(-10,10)}\n",
    "\n",
    "# Run the tuning process\n",
    "tuner = tune.Tuner(train,param_space=search_space,\n",
    "                   tune_config=tune.TuneConfig(\n",
    "                       search_alg =  tune.suggest.basic_variant.BasocVaraintGenerator(),\n",
    "                       scheduler= tune.schedulers.ASHAScheduler()\n",
    "                   ))\n",
    "\n",
    "results = tuner.fit()\n",
    "\n",
    "# Analyze \n",
    "print(\"Best Config:\", results.get_best_result(metric=\"score\",mode=\"min\").config)"
   ]
  },
  {
   "cell_type": "code",
   "execution_count": 0,
   "metadata": {
    "application/vnd.databricks.v1+cell": {
     "cellMetadata": {
      "byteLimit": 2048000,
      "rowLimit": 10000
     },
     "inputWidgets": {},
     "nuid": "08b17505-f67d-40d4-bb0a-2ba730d1b036",
     "showTitle": false,
     "tableResultSettingsMap": {},
     "title": ""
    }
   },
   "outputs": [],
   "source": [
    "%python\n",
    "import ray \n",
    "from ray import tune \n",
    "from ray.tune.search.basic_variant import BasicVariantGenerator\n",
    "from ray.tune.schedulers import ASHAScheduler\n",
    "\n",
    "# Define Objective function\n",
    "def train(config):\n",
    "    score = config[\"param\"] ** 2\n",
    "    tune.report(score=score)\n",
    "\n",
    "# Define search space\n",
    "search_space = {\"param\": tune.uniform(-10, 10)}\n",
    "\n",
    "# Run the tuning process\n",
    "tuner = tune.Tuner(\n",
    "    train,\n",
    "    param_space=search_space,\n",
    "    tune_config=tune.TuneConfig(metric='score', mode='min',\n",
    "        search_alg=BasicVariantGenerator(),\n",
    "        scheduler=ASHAScheduler()\n",
    "    )\n",
    ")\n",
    "\n",
    "results = tuner.fit()\n",
    "\n",
    "# Analyze \n",
    "print(\"Best Config:\", results.get_best_result(metric=\"score\", mode=\"min\").config)"
   ]
  }
 ],
 "metadata": {
  "application/vnd.databricks.v1+notebook": {
   "computePreferences": null,
   "dashboards": [],
   "environmentMetadata": {
    "base_environment": "",
    "environment_version": "2"
   },
   "inputWidgetPreferences": null,
   "language": "python",
   "notebookMetadata": {
    "pythonIndentUnit": 4
   },
   "notebookName": "Ray_HP_optimization",
   "widgets": {}
  },
  "language_info": {
   "name": "python"
  }
 },
 "nbformat": 4,
 "nbformat_minor": 0
}
