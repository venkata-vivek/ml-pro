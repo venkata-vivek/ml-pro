{
 "cells": [
  {
   "cell_type": "code",
   "execution_count": 0,
   "metadata": {
    "application/vnd.databricks.v1+cell": {
     "cellMetadata": {
      "byteLimit": 2048000,
      "rowLimit": 10000
     },
     "inputWidgets": {},
     "nuid": "90f6463a-3337-41de-8b31-c1a2a64088ec",
     "showTitle": false,
     "tableResultSettingsMap": {},
     "title": ""
    }
   },
   "outputs": [],
   "source": [
    "import pandas as pd\n",
    "import seaborn as sns\n",
    "#\n",
    "import sklearn\n",
    "from sklearn.model_selection import train_test_split\n",
    "from sklearn.metrics import mean_squared_error\n",
    "from sklearn.ensemble import RandomForestRegressor\n",
    "#\n",
    "import mlflow\n",
    "from mlflow.models.signature import infer_signature\n",
    "#\n",
    "import logging\n",
    "import json \n",
    "import os\n",
    "from sys import version_info"
   ]
  },
  {
   "cell_type": "code",
   "execution_count": 0,
   "metadata": {
    "application/vnd.databricks.v1+cell": {
     "cellMetadata": {},
     "inputWidgets": {},
     "nuid": "1c96f84c-005c-44b8-a8a4-6641e20293c4",
     "showTitle": false,
     "tableResultSettingsMap": {},
     "title": ""
    }
   },
   "outputs": [],
   "source": []
  },
  {
   "cell_type": "code",
   "execution_count": 0,
   "metadata": {
    "application/vnd.databricks.v1+cell": {
     "cellMetadata": {
      "byteLimit": 2048000,
      "rowLimit": 10000
     },
     "inputWidgets": {},
     "nuid": "b87107d9-7db2-4151-a97e-c43aaa606af2",
     "showTitle": false,
     "tableResultSettingsMap": {},
     "title": ""
    }
   },
   "outputs": [],
   "source": [
    "logging.getLogger(\"mlflow\").setLevel(logging.FATAL)"
   ]
  },
  {
   "cell_type": "code",
   "execution_count": 0,
   "metadata": {
    "application/vnd.databricks.v1+cell": {
     "cellMetadata": {
      "byteLimit": 2048000,
      "rowLimit": 10000
     },
     "inputWidgets": {},
     "nuid": "501be8cb-fd6a-494a-a10b-d58728c86dec",
     "showTitle": false,
     "tableResultSettingsMap": {},
     "title": ""
    }
   },
   "outputs": [],
   "source": [
    "diamonds_df = sns.load_dataset('diamonds').drop(['cut', 'color', 'clarity'], axis=1)\n",
    "#\n",
    "X_train, X_test, y_train, y_test = train_test_split(diamonds_df.drop([\"price\"], axis=1), diamonds_df[\"price\"], random_state=42)\n",
    "\n",
    "X_train.head()"
   ]
  },
  {
   "cell_type": "markdown",
   "metadata": {
    "application/vnd.databricks.v1+cell": {
     "cellMetadata": {},
     "inputWidgets": {},
     "nuid": "d1c3c6d0-d15e-4096-84cf-60de1324f69f",
     "showTitle": false,
     "tableResultSettingsMap": {},
     "title": ""
    }
   },
   "source": [
    "### Sklearn model"
   ]
  },
  {
   "cell_type": "code",
   "execution_count": 0,
   "metadata": {
    "application/vnd.databricks.v1+cell": {
     "cellMetadata": {
      "byteLimit": 2048000,
      "rowLimit": 10000
     },
     "inputWidgets": {},
     "nuid": "df1b8f20-eb5d-473b-923e-d630c6de92fa",
     "showTitle": false,
     "tableResultSettingsMap": {},
     "title": ""
    }
   },
   "outputs": [],
   "source": [
    "class sklearn_model(mlflow.pyfunc.PythonModel):\n",
    "    def __init__(self, params):\n",
    "        self.params = params\n",
    "        self.rf_model = None\n",
    "        self.config = None\n",
    "\n",
    "\n",
    "    def load_context(self,context = None,config_path=None):\n",
    "        \"\"\" When loading a pyfunc, this method runs automatically with the related\n",
    "        context. This method is designed to perform the same functionality when\n",
    "        run in a notebook or a downstream operation (like a REST endpoint).\n",
    "        If the `context` object is provided, it will load the path to a config from \n",
    "        that object (this happens with `mlflow.pyfunc.load_model()` is called).\n",
    "        If the `config_path` argument is provided instead, it uses this argument\n",
    "        in order to load in the config. \"\"\"\n",
    "        #\n",
    "        if context: # This block executes for server run\n",
    "            config_path = context.artifacts[\"config_path\"]\n",
    "        else:       # This block executes for notebook run\n",
    "            pass\n",
    "        self.config = json.load(open(config_path))\n",
    "\n",
    "    def fit(self, X_train, y_train):\n",
    "        rf_model = RandomForestRegressor(**self.params)\n",
    "        rf_model.fit(X_train, y_train)\n",
    "        self.rf_model = rf_model\n",
    "\n",
    "    def predict(self, context, model_input):\n",
    "        return self.rf_model.predict(model_input)\n"
   ]
  },
  {
   "cell_type": "code",
   "execution_count": 0,
   "metadata": {
    "application/vnd.databricks.v1+cell": {
     "cellMetadata": {
      "byteLimit": 2048000,
      "rowLimit": 10000
     },
     "inputWidgets": {},
     "nuid": "9600c158-a091-4d7c-809a-306f79e0ccf4",
     "showTitle": false,
     "tableResultSettingsMap": {},
     "title": ""
    }
   },
   "outputs": [],
   "source": [
    "params_sklearn = {\n",
    "    \"n_estimators\": 15, \n",
    "    \"max_depth\": 5\n",
    "}\n",
    "#\n",
    "# Designate a path\n",
    "config_path_sklearn = \"data_sklearn.json\"\n",
    "#\n",
    "# Save the results\n",
    "with open(config_path_sklearn, \"w\") as f:\n",
    "    json.dump(params_sklearn, f)\n",
    "#\n",
    "# Generate an artifact object to saved\n",
    "# All paths to the associated values will be copied over when saving\n",
    "artifacts_sklearn = {\"config_path\": config_path_sklearn}"
   ]
  },
  {
   "cell_type": "code",
   "execution_count": 0,
   "metadata": {
    "application/vnd.databricks.v1+cell": {
     "cellMetadata": {
      "byteLimit": 2048000,
      "rowLimit": 10000
     },
     "inputWidgets": {},
     "nuid": "2e61fc58-f4e9-4330-8031-4c39c0daebd9",
     "showTitle": false,
     "tableResultSettingsMap": {},
     "title": ""
    }
   },
   "outputs": [],
   "source": [
    "model_sk = sklearn_model(params_sklearn)\n",
    "#\n",
    "model_sk.load_context(config_path=config_path_sklearn) \n",
    "#\n",
    "# Confirm the config has loaded\n",
    "model_sk.config"
   ]
  },
  {
   "cell_type": "code",
   "execution_count": 0,
   "metadata": {
    "application/vnd.databricks.v1+cell": {
     "cellMetadata": {
      "byteLimit": 2048000,
      "rowLimit": 10000
     },
     "inputWidgets": {},
     "nuid": "54aeee64-40cf-407f-8dcc-3447a72852eb",
     "showTitle": false,
     "tableResultSettingsMap": {},
     "title": ""
    }
   },
   "outputs": [],
   "source": [
    "model_sk.fit(X_train, y_train)"
   ]
  },
  {
   "cell_type": "code",
   "execution_count": 0,
   "metadata": {
    "application/vnd.databricks.v1+cell": {
     "cellMetadata": {
      "byteLimit": 2048000,
      "rowLimit": 10000
     },
     "inputWidgets": {},
     "nuid": "a60ea25f-3aad-4255-84d0-85d3ff6b1fc4",
     "showTitle": false,
     "tableResultSettingsMap": {},
     "title": ""
    }
   },
   "outputs": [],
   "source": [
    "predictions_sklearn = model_sk.predict(context=None, model_input=X_test)\n",
    "pd.DataFrame({'actual prices': list(y_test), 'predictions': list(predictions_sklearn)}).head(5)"
   ]
  },
  {
   "cell_type": "code",
   "execution_count": 0,
   "metadata": {
    "application/vnd.databricks.v1+cell": {
     "cellMetadata": {
      "byteLimit": 2048000,
      "rowLimit": 10000
     },
     "inputWidgets": {},
     "nuid": "5435a6e0-f475-4539-b79e-d7ff2913f22e",
     "showTitle": false,
     "tableResultSettingsMap": {},
     "title": ""
    }
   },
   "outputs": [],
   "source": [
    "signature_sklearn = infer_signature(X_test, predictions_sklearn)\n",
    "signature_sklearn"
   ]
  },
  {
   "cell_type": "code",
   "execution_count": 0,
   "metadata": {
    "application/vnd.databricks.v1+cell": {
     "cellMetadata": {
      "byteLimit": 2048000,
      "rowLimit": 10000
     },
     "inputWidgets": {},
     "nuid": "988b9336-61e2-4ef5-a779-4a37e3c44d94",
     "showTitle": false,
     "tableResultSettingsMap": {},
     "title": ""
    }
   },
   "outputs": [],
   "source": [
    "conda_env_sklearn = {\n",
    "    \"channels\": [\"defaults\"],\n",
    "    \"dependencies\": [\n",
    "        f\"python={version_info.major}.{version_info.minor}.{version_info.micro}\",\n",
    "        \"pip\",\n",
    "        {\"pip\": [\"mlflow\",\n",
    "                 f\"scikit-learn=={sklearn.__version__}\"]\n",
    "        },\n",
    "    ],\n",
    "    \"name\": \"sklearn_env\"\n",
    "}\n",
    "conda_env_sklearn"
   ]
  },
  {
   "cell_type": "code",
   "execution_count": 0,
   "metadata": {
    "application/vnd.databricks.v1+cell": {
     "cellMetadata": {},
     "inputWidgets": {},
     "nuid": "f896225c-eb2b-43f5-a0bf-7f1a1d8b4886",
     "showTitle": false,
     "tableResultSettingsMap": {},
     "title": ""
    }
   },
   "outputs": [],
   "source": []
  },
  {
   "cell_type": "code",
   "execution_count": 0,
   "metadata": {
    "application/vnd.databricks.v1+cell": {
     "cellMetadata": {
      "byteLimit": 2048000,
      "rowLimit": 10000
     },
     "inputWidgets": {},
     "nuid": "810cbb16-004c-4605-909d-cad72ea56524",
     "showTitle": false,
     "tableResultSettingsMap": {},
     "title": ""
    }
   },
   "outputs": [],
   "source": [
    "with mlflow.start_run() as run:\n",
    "    mlflow.pyfunc.log_model(\n",
    "        \"sklearn_RFR\", \n",
    "        python_model=model_sk, \n",
    "        artifacts=artifacts_sklearn,\n",
    "        conda_env=conda_env_sklearn,\n",
    "        signature=signature_sklearn,\n",
    "        input_example=X_test[:3] \n",
    "  )"
   ]
  },
  {
   "cell_type": "code",
   "execution_count": 0,
   "metadata": {
    "application/vnd.databricks.v1+cell": {
     "cellMetadata": {
      "byteLimit": 2048000,
      "rowLimit": 10000
     },
     "inputWidgets": {},
     "nuid": "e126f932-2a58-40e7-a5b5-c2b101a1ab82",
     "showTitle": false,
     "tableResultSettingsMap": {},
     "title": ""
    }
   },
   "outputs": [],
   "source": [
    "mlflow_pyfunc_model_path_sk = f\"runs:/{run.info.run_id}/sklearn_RFR\"\n",
    "print(\"model_uri : \",mlflow_pyfunc_model_path_sk)\n",
    "loaded_preprocess_model_sk = mlflow.pyfunc.load_model(mlflow_pyfunc_model_path_sk)"
   ]
  },
  {
   "cell_type": "markdown",
   "metadata": {
    "application/vnd.databricks.v1+cell": {
     "cellMetadata": {},
     "inputWidgets": {},
     "nuid": "dac69e4d-1aa0-48bd-9430-fef84f16af3d",
     "showTitle": false,
     "tableResultSettingsMap": {},
     "title": ""
    }
   },
   "source": [
    "#### Tensorflow model"
   ]
  },
  {
   "cell_type": "code",
   "execution_count": 0,
   "metadata": {
    "application/vnd.databricks.v1+cell": {
     "cellMetadata": {
      "byteLimit": 2048000,
      "rowLimit": 10000
     },
     "inputWidgets": {},
     "nuid": "b2a18c54-f0a6-401c-b1bc-0ed3625a1b74",
     "showTitle": false,
     "tableResultSettingsMap": {},
     "title": ""
    }
   },
   "outputs": [],
   "source": [
    "\n",
    "import tensorflow as tf\n",
    "from tensorflow.keras.models import Sequential\n",
    "from tensorflow.keras.layers import Dense,Normalization\n",
    "\n",
    "print(\"TF version : \",tf.__version__)\n",
    "\n",
    "    "
   ]
  },
  {
   "cell_type": "code",
   "execution_count": 0,
   "metadata": {
    "application/vnd.databricks.v1+cell": {
     "cellMetadata": {
      "byteLimit": 2048000,
      "rowLimit": 10000
     },
     "inputWidgets": {},
     "nuid": "79402914-3170-4a41-abc9-b99cc78b6aef",
     "showTitle": false,
     "tableResultSettingsMap": {},
     "title": ""
    }
   },
   "outputs": [],
   "source": [
    "print(\"X_train : \",X_train.shape)\n",
    "print(\"y_train : \",y_train.shape)"
   ]
  },
  {
   "cell_type": "code",
   "execution_count": 0,
   "metadata": {
    "application/vnd.databricks.v1+cell": {
     "cellMetadata": {
      "byteLimit": 2048000,
      "rowLimit": 10000
     },
     "inputWidgets": {},
     "nuid": "a4379374-e177-41c6-a2a8-075c1bc6113e",
     "showTitle": false,
     "tableResultSettingsMap": {},
     "title": ""
    }
   },
   "outputs": [],
   "source": [
    "class custom_tf_model(mlflow.pyfunc.PythonModel):\n",
    "    def __init__(self, params):\n",
    "        self.params = params\n",
    "        self.tf_model = None\n",
    "        self.config = None\n",
    "\n",
    "\n",
    "    def load_context(self,context = None,config_path=None):\n",
    "        \"\"\" When loading a pyfunc, this method runs automatically with the related\n",
    "        context. This method is designed to perform the same functionality when\n",
    "        run in a notebook or a downstream operation (like a REST endpoint).\n",
    "        If the `context` object is provided, it will load the path to a config from \n",
    "        that object (this happens with `mlflow.pyfunc.load_model()` is called).\n",
    "        If the `config_path` argument is provided instead, it uses this argument\n",
    "        in order to load in the config. \"\"\"\n",
    "        #\n",
    "        if context: # This block executes for server run\n",
    "            config_path = context.artifacts[\"config_path\"]\n",
    "            #self.tf_model = tf.keras.models.load_model(config_path)\n",
    "        else:       # This block executes for notebook run\n",
    "            pass\n",
    "        self.config = json.load(open(config_path))\n",
    "\n",
    "    def fit(self, X_train, y_train):\n",
    "        tf_model = self.buildAndCompile_tf_regression_mode(input_shape=self.params[\"input_shape\"])\n",
    "        tf_model.fit(X_train,y_train,epochs= self.params[\"epoch\"])\n",
    "        self.tf_model = tf_model\n",
    "\n",
    "    def predict(self, context, model_input):\n",
    "        return self.tf_model.predict(model_input)\n",
    "    \n",
    "\n",
    "    def buildAndCompile_tf_regression_mode(self, input_shape):\n",
    "        model = Sequential([\n",
    "            Normalization(input_shape=input_shape),\n",
    "            Dense(64, activation='relu'),\n",
    "            Dense(64, activation='relu'),\n",
    "            Dense(1)\n",
    "        ])\n",
    "\n",
    "        model.compile(loss='mean_absolute_error',\n",
    "                        optimizer=tf.keras.optimizers.Adam(0.001))\n",
    "        return model\n",
    "    \n",
    "\n",
    "    \n"
   ]
  },
  {
   "cell_type": "code",
   "execution_count": 0,
   "metadata": {
    "application/vnd.databricks.v1+cell": {
     "cellMetadata": {
      "byteLimit": 2048000,
      "rowLimit": 10000
     },
     "inputWidgets": {},
     "nuid": "ec8c490f-4b51-45e2-8ff1-a4f33ef5e74b",
     "showTitle": false,
     "tableResultSettingsMap": {},
     "title": ""
    }
   },
   "outputs": [],
   "source": [
    "params_tf = {\n",
    "    \"input_shape\": [6], \n",
    "    \"epoch\": 3\n",
    "}\n",
    "\n",
    "config_path_tf = \"data_tf.json\"\n",
    "\n",
    "# Save the results\n",
    "with open(config_path_tf, \"w\") as f:\n",
    "    json.dump(params_tf, f)\n",
    "artifacts_tf = {\"config_path\": config_path_tf} "
   ]
  },
  {
   "cell_type": "code",
   "execution_count": 0,
   "metadata": {
    "application/vnd.databricks.v1+cell": {
     "cellMetadata": {
      "byteLimit": 2048000,
      "rowLimit": 10000
     },
     "inputWidgets": {},
     "nuid": "a2a951ce-a208-4a98-a056-0a3ce15cdc2c",
     "showTitle": false,
     "tableResultSettingsMap": {},
     "title": ""
    }
   },
   "outputs": [],
   "source": [
    "model_tf = custom_tf_model(params_tf)\n",
    "#\n",
    "model_tf.load_context(config_path=config_path_tf) \n",
    "#\n",
    "# Confirm the config has loaded\n",
    "model_tf.config"
   ]
  },
  {
   "cell_type": "code",
   "execution_count": 0,
   "metadata": {
    "application/vnd.databricks.v1+cell": {
     "cellMetadata": {
      "byteLimit": 2048000,
      "rowLimit": 10000
     },
     "inputWidgets": {},
     "nuid": "de416e7b-a160-4f3d-8b54-aafe1fa0e44a",
     "showTitle": false,
     "tableResultSettingsMap": {},
     "title": ""
    }
   },
   "outputs": [],
   "source": [
    "model_tf.fit(X_train,y_train)"
   ]
  },
  {
   "cell_type": "code",
   "execution_count": 0,
   "metadata": {
    "application/vnd.databricks.v1+cell": {
     "cellMetadata": {
      "byteLimit": 2048000,
      "rowLimit": 10000
     },
     "inputWidgets": {},
     "nuid": "4236aa8d-2928-4eb8-ba66-db716d1b57c4",
     "showTitle": false,
     "tableResultSettingsMap": {},
     "title": ""
    }
   },
   "outputs": [],
   "source": [
    "conda_env_tf = {\n",
    "    \"channels\": [\"defaults\"],\n",
    "    \"dependencies\": [\n",
    "        f\"python={version_info.major}.{version_info.minor}.{version_info.micro}\",\n",
    "        \"pip\",\n",
    "        {\"pip\": [\"mlflow\",\n",
    "                 f\"tensorflow=={tf.__version__}\"]\n",
    "        },\n",
    "    ],\n",
    "    \"name\": \"tf_env\"\n",
    "}\n",
    "conda_env_tf"
   ]
  },
  {
   "cell_type": "code",
   "execution_count": 0,
   "metadata": {
    "application/vnd.databricks.v1+cell": {
     "cellMetadata": {
      "byteLimit": 2048000,
      "rowLimit": 10000
     },
     "inputWidgets": {},
     "nuid": "29779d5e-6263-4f84-a51d-67aff4e93088",
     "showTitle": false,
     "tableResultSettingsMap": {},
     "title": ""
    }
   },
   "outputs": [],
   "source": [
    "predictions_tf = model_tf.predict(context=None, model_input=X_test)\n",
    "pd.DataFrame({'actual prices': list(y_test), 'predictions': list(predictions_tf)}).head(5)\n"
   ]
  },
  {
   "cell_type": "code",
   "execution_count": 0,
   "metadata": {
    "application/vnd.databricks.v1+cell": {
     "cellMetadata": {
      "byteLimit": 2048000,
      "rowLimit": 10000
     },
     "inputWidgets": {},
     "nuid": "b2b69937-748a-4b6f-919a-177a8872ea3b",
     "showTitle": false,
     "tableResultSettingsMap": {},
     "title": ""
    }
   },
   "outputs": [],
   "source": [
    "signature_tf = infer_signature(X_test, predictions_tf)\n",
    "signature_tf"
   ]
  },
  {
   "cell_type": "code",
   "execution_count": 0,
   "metadata": {
    "application/vnd.databricks.v1+cell": {
     "cellMetadata": {
      "byteLimit": 2048000,
      "rowLimit": 10000
     },
     "inputWidgets": {},
     "nuid": "eb1e316e-d7e5-410f-a7a0-5f800c83e291",
     "showTitle": false,
     "tableResultSettingsMap": {},
     "title": ""
    }
   },
   "outputs": [],
   "source": [
    "artifacts_tf"
   ]
  },
  {
   "cell_type": "code",
   "execution_count": 0,
   "metadata": {
    "application/vnd.databricks.v1+cell": {
     "cellMetadata": {
      "byteLimit": 2048000,
      "rowLimit": 10000
     },
     "inputWidgets": {},
     "nuid": "22f42485-a2a5-4228-b40e-7e4bba091224",
     "showTitle": false,
     "tableResultSettingsMap": {},
     "title": ""
    }
   },
   "outputs": [],
   "source": [
    "with mlflow.start_run() as run:\n",
    "    mlflow.pyfunc.log_model(\n",
    "        \"tf_regressor\", \n",
    "        python_model=model_tf, \n",
    "        artifacts=artifacts_tf,\n",
    "        conda_env=conda_env_tf,\n",
    "        signature=signature_tf,\n",
    "        input_example=X_test[:3] \n",
    "  )"
   ]
  },
  {
   "cell_type": "code",
   "execution_count": 0,
   "metadata": {
    "application/vnd.databricks.v1+cell": {
     "cellMetadata": {},
     "inputWidgets": {},
     "nuid": "e4508bb2-5afa-4216-a27e-9811729be16b",
     "showTitle": false,
     "tableResultSettingsMap": {},
     "title": ""
    }
   },
   "outputs": [],
   "source": [
    "mlflow_pyfunc_model_path_tf = f\"runs:/{run.info.run_id}/tf_regressor\"\n",
    "print(\"mlflow_pyfunc_model_path_tf : \",mlflow_pyfunc_model_path_tf)\n",
    "loaded_preprocess_model_tf = mlflow.pyfunc.load_model(mlflow_pyfunc_model_path_tf)\n"
   ]
  },
  {
   "cell_type": "code",
   "execution_count": 0,
   "metadata": {
    "application/vnd.databricks.v1+cell": {
     "cellMetadata": {},
     "inputWidgets": {},
     "nuid": "cb7b9d86-595d-4313-9f7f-46a944a11940",
     "showTitle": false,
     "tableResultSettingsMap": {},
     "title": ""
    }
   },
   "outputs": [],
   "source": [
    "#\n",
    "y_pred_tf = loaded_preprocess_model_tf.predict(X_test)\n",
    "#\n",
    "pd.DataFrame({'actual prices': list(y_test), 'predictions': list(y_pred_tf)}).head(5)"
   ]
  },
  {
   "cell_type": "code",
   "execution_count": 0,
   "metadata": {
    "application/vnd.databricks.v1+cell": {
     "cellMetadata": {},
     "inputWidgets": {},
     "nuid": "27de59fe-6ecd-4065-9709-62c1ebd44cac",
     "showTitle": false,
     "tableResultSettingsMap": {},
     "title": ""
    }
   },
   "outputs": [],
   "source": []
  },
  {
   "cell_type": "code",
   "execution_count": 0,
   "metadata": {
    "application/vnd.databricks.v1+cell": {
     "cellMetadata": {},
     "inputWidgets": {},
     "nuid": "b6279361-9353-447e-96e7-b2b9e541b9d1",
     "showTitle": false,
     "tableResultSettingsMap": {},
     "title": ""
    }
   },
   "outputs": [],
   "source": []
  },
  {
   "cell_type": "code",
   "execution_count": 0,
   "metadata": {
    "application/vnd.databricks.v1+cell": {
     "cellMetadata": {},
     "inputWidgets": {},
     "nuid": "c65428d8-87a8-4720-864a-ef20a1d48fd7",
     "showTitle": false,
     "tableResultSettingsMap": {},
     "title": ""
    }
   },
   "outputs": [],
   "source": []
  }
 ],
 "metadata": {
  "application/vnd.databricks.v1+notebook": {
   "computePreferences": null,
   "dashboards": [],
   "environmentMetadata": null,
   "inputWidgetPreferences": null,
   "language": "python",
   "notebookMetadata": {
    "pythonIndentUnit": 4
   },
   "notebookName": "unify model artifact",
   "widgets": {}
  },
  "kernelspec": {
   "display_name": "ths",
   "language": "python",
   "name": "python3"
  },
  "language_info": {
   "name": "python"
  }
 },
 "nbformat": 4,
 "nbformat_minor": 0
}
