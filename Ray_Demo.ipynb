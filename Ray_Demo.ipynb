{
 "cells": [
  {
   "cell_type": "code",
   "execution_count": 0,
   "metadata": {
    "application/vnd.databricks.v1+cell": {
     "cellMetadata": {
      "byteLimit": 2048000,
      "rowLimit": 10000
     },
     "inputWidgets": {},
     "nuid": "cc1f57db-ccd9-4c4d-8a44-e28ea39bf2d8",
     "showTitle": false,
     "tableResultSettingsMap": {},
     "title": ""
    }
   },
   "outputs": [],
   "source": [
    "%python\n",
    "# Install the required package\n",
    "%pip install ray[tune]\n",
    "\n",
    "from sklearn.datasets import load_iris\n",
    "from sklearn.model_selection import train_test_split\n",
    "from sklearn.ensemble import RandomForestClassifier\n",
    "from sklearn.metrics import accuracy_score\n",
    "import pandas as pd\n",
    "from ray import tune\n",
    "from ray.tune.search import TuneSearchCV\n",
    "\n",
    "# Load iris dataset\n",
    "iris = load_iris()\n",
    "X = pd.DataFrame(iris.data, columns=iris.feature_names)\n",
    "y = pd.Series(iris.target)\n",
    "\n",
    "# Split the dataset\n",
    "X_train, X_test, y_train, y_test = train_test_split(X, y, test_size=0.2, random_state=42)\n",
    "\n",
    "# Define the objective function\n",
    "def objective(config):\n",
    "    model = RandomForestClassifier(**config)\n",
    "    model.fit(X_train, y_train)\n",
    "    y_pred = model.predict(X_test)\n",
    "    accuracy = accuracy_score(y_test, y_pred)\n",
    "    tune.report(accuracy=accuracy)\n",
    "\n",
    "# Define the search space\n",
    "search_space = {\n",
    "    'n_estimators': tune.randint(10, 200),\n",
    "    'max_depth': tune.randint(1, 20),\n",
    "    'min_samples_split': tune.randint(2, 10),\n",
    "    'min_samples_leaf': tune.randint(1, 10),\n",
    "    'bootstrap': tune.choice([True, False])\n",
    "}\n",
    "\n",
    "# Tune hyperparameters\n",
    "tuner = TuneSearchCV(\n",
    "    RandomForestClassifier(random_state=42),\n",
    "    search_space,\n",
    "    n_trials=10,\n",
    "    scoring='accuracy',\n",
    "    random_state=42\n",
    ")\n",
    "tuner.fit(X_train, y_train)\n",
    "\n",
    "# Get the best model\n",
    "best_model = tuner.best_estimator_\n",
    "\n",
    "# Predict and evaluate\n",
    "y_pred = best_model.predict(X_test)\n",
    "accuracy = accuracy_score(y_test, y_pred)\n",
    "\n",
    "# Display the accuracy\n",
    "display(pd.DataFrame({'Accuracy': [accuracy]}))"
   ]
  },
  {
   "cell_type": "code",
   "execution_count": 0,
   "metadata": {
    "application/vnd.databricks.v1+cell": {
     "cellMetadata": {
      "byteLimit": 2048000,
      "rowLimit": 10000
     },
     "inputWidgets": {},
     "nuid": "d76291e6-1485-41d7-8812-4eb84fbcd606",
     "showTitle": false,
     "tableResultSettingsMap": {},
     "title": ""
    }
   },
   "outputs": [],
   "source": [
    "%python\n",
    "from ray.util.spark import setup_ray_cluster, shutdown_ray_cluster\n",
    "import os\n",
    "\n",
    "# Set up Ray cluster with specific resource allocation\n",
    "ray_conf = setup_ray_cluster(\n",
    "    min_worker_nodes=1,\n",
    "    max_worker_nodes=3, # Set to 0 for non-GPU workloads\n",
    ")\n",
    "\n",
    "# Initialize Ray\n",
    "import ray\n",
    "ray.init()\n",
    "print(f\"Ray intialized with address: {ray_conf[0]}\")\n",
    "\n",
    "# Set ray address for spark integration\n",
    "\n",
    "os.environ['RAY_ADDRESS']= ray_conf[0]\n",
    "\n",
    "# Your Ray Tune code here\n",
    "\n",
    "# Shutdown Ray cluster after use\n",
    "# shutdown_ray_cluster()"
   ]
  },
  {
   "cell_type": "markdown",
   "metadata": {
    "application/vnd.databricks.v1+cell": {
     "cellMetadata": {},
     "inputWidgets": {},
     "nuid": "f0d284ce-131c-463b-ad62-cd3892485f01",
     "showTitle": false,
     "tableResultSettingsMap": {},
     "title": ""
    }
   },
   "source": [
    "spark_executor_memory + num_Ray_worker_nodes_per_spark_worker * (memory_worker_node + object_store_memory_worker_node) < spark_worker_physical_memory * 0.8"
   ]
  },
  {
   "cell_type": "code",
   "execution_count": 0,
   "metadata": {
    "application/vnd.databricks.v1+cell": {
     "cellMetadata": {
      "byteLimit": 2048000,
      "rowLimit": 10000
     },
     "inputWidgets": {},
     "nuid": "8a1fff2a-544e-4b95-b92d-5133874a9378",
     "showTitle": false,
     "tableResultSettingsMap": {},
     "title": ""
    }
   },
   "outputs": [],
   "source": [
    "from sklearn.datasets import load_wine\n",
    "import pandas as pd\n",
    "\n",
    "# Load wine dataset\n",
    "wine = load_wine()\n",
    "\n",
    "wine_df = pd.DataFrame(wine.data, columns=wine.feature_names)"
   ]
  },
  {
   "cell_type": "code",
   "execution_count": 0,
   "metadata": {
    "application/vnd.databricks.v1+cell": {
     "cellMetadata": {
      "byteLimit": 2048000,
      "rowLimit": 10000
     },
     "inputWidgets": {},
     "nuid": "94254ffc-6c98-46bd-a062-6a946d7f3bb2",
     "showTitle": false,
     "tableResultSettingsMap": {},
     "title": ""
    }
   },
   "outputs": [],
   "source": [
    "wine_df.display()"
   ]
  }
 ],
 "metadata": {
  "application/vnd.databricks.v1+notebook": {
   "computePreferences": null,
   "dashboards": [],
   "environmentMetadata": {
    "base_environment": "",
    "environment_version": "2"
   },
   "inputWidgetPreferences": null,
   "language": "python",
   "notebookMetadata": {
    "pythonIndentUnit": 4
   },
   "notebookName": "Ray_Demo",
   "widgets": {}
  },
  "language_info": {
   "name": "python"
  }
 },
 "nbformat": 4,
 "nbformat_minor": 0
}
